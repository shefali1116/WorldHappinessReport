{
 "cells": [
  {
   "cell_type": "code",
   "execution_count": 2,
   "metadata": {},
   "outputs": [],
   "source": [
    "import pandas as pd\n",
    "import numpy as np\n",
    "import matplotlib.pyplot as plt\n",
    "import seaborn as sns \n",
    "from sklearn.metrics import accuracy_score,confusion_matrix,classification_report\n",
    "from sklearn.preprocessing import LabelEncoder"
   ]
  },
  {
   "cell_type": "code",
   "execution_count": 3,
   "metadata": {},
   "outputs": [
    {
     "data": {
      "text/html": [
       "<div>\n",
       "<style scoped>\n",
       "    .dataframe tbody tr th:only-of-type {\n",
       "        vertical-align: middle;\n",
       "    }\n",
       "\n",
       "    .dataframe tbody tr th {\n",
       "        vertical-align: top;\n",
       "    }\n",
       "\n",
       "    .dataframe thead th {\n",
       "        text-align: right;\n",
       "    }\n",
       "</style>\n",
       "<table border=\"1\" class=\"dataframe\">\n",
       "  <thead>\n",
       "    <tr style=\"text-align: right;\">\n",
       "      <th></th>\n",
       "      <th>Country</th>\n",
       "      <th>Region</th>\n",
       "      <th>Happiness Rank</th>\n",
       "      <th>Happiness Score</th>\n",
       "      <th>Standard Error</th>\n",
       "      <th>Economy (GDP per Capita)</th>\n",
       "      <th>Family</th>\n",
       "      <th>Health (Life Expectancy)</th>\n",
       "      <th>Freedom</th>\n",
       "      <th>Trust (Government Corruption)</th>\n",
       "      <th>Generosity</th>\n",
       "      <th>Dystopia Residual</th>\n",
       "    </tr>\n",
       "  </thead>\n",
       "  <tbody>\n",
       "    <tr>\n",
       "      <th>0</th>\n",
       "      <td>Switzerland</td>\n",
       "      <td>Western Europe</td>\n",
       "      <td>1</td>\n",
       "      <td>7.587</td>\n",
       "      <td>0.03411</td>\n",
       "      <td>1.39651</td>\n",
       "      <td>1.34951</td>\n",
       "      <td>0.94143</td>\n",
       "      <td>0.66557</td>\n",
       "      <td>0.41978</td>\n",
       "      <td>0.29678</td>\n",
       "      <td>2.51738</td>\n",
       "    </tr>\n",
       "    <tr>\n",
       "      <th>1</th>\n",
       "      <td>Iceland</td>\n",
       "      <td>Western Europe</td>\n",
       "      <td>2</td>\n",
       "      <td>7.561</td>\n",
       "      <td>0.04884</td>\n",
       "      <td>1.30232</td>\n",
       "      <td>1.40223</td>\n",
       "      <td>0.94784</td>\n",
       "      <td>0.62877</td>\n",
       "      <td>0.14145</td>\n",
       "      <td>0.43630</td>\n",
       "      <td>2.70201</td>\n",
       "    </tr>\n",
       "    <tr>\n",
       "      <th>2</th>\n",
       "      <td>Denmark</td>\n",
       "      <td>Western Europe</td>\n",
       "      <td>3</td>\n",
       "      <td>7.527</td>\n",
       "      <td>0.03328</td>\n",
       "      <td>1.32548</td>\n",
       "      <td>1.36058</td>\n",
       "      <td>0.87464</td>\n",
       "      <td>0.64938</td>\n",
       "      <td>0.48357</td>\n",
       "      <td>0.34139</td>\n",
       "      <td>2.49204</td>\n",
       "    </tr>\n",
       "    <tr>\n",
       "      <th>3</th>\n",
       "      <td>Norway</td>\n",
       "      <td>Western Europe</td>\n",
       "      <td>4</td>\n",
       "      <td>7.522</td>\n",
       "      <td>0.03880</td>\n",
       "      <td>1.45900</td>\n",
       "      <td>1.33095</td>\n",
       "      <td>0.88521</td>\n",
       "      <td>0.66973</td>\n",
       "      <td>0.36503</td>\n",
       "      <td>0.34699</td>\n",
       "      <td>2.46531</td>\n",
       "    </tr>\n",
       "    <tr>\n",
       "      <th>4</th>\n",
       "      <td>Canada</td>\n",
       "      <td>North America</td>\n",
       "      <td>5</td>\n",
       "      <td>7.427</td>\n",
       "      <td>0.03553</td>\n",
       "      <td>1.32629</td>\n",
       "      <td>1.32261</td>\n",
       "      <td>0.90563</td>\n",
       "      <td>0.63297</td>\n",
       "      <td>0.32957</td>\n",
       "      <td>0.45811</td>\n",
       "      <td>2.45176</td>\n",
       "    </tr>\n",
       "  </tbody>\n",
       "</table>\n",
       "</div>"
      ],
      "text/plain": [
       "       Country          Region  Happiness Rank  Happiness Score  \\\n",
       "0  Switzerland  Western Europe               1            7.587   \n",
       "1      Iceland  Western Europe               2            7.561   \n",
       "2      Denmark  Western Europe               3            7.527   \n",
       "3       Norway  Western Europe               4            7.522   \n",
       "4       Canada   North America               5            7.427   \n",
       "\n",
       "   Standard Error  Economy (GDP per Capita)   Family  \\\n",
       "0         0.03411                   1.39651  1.34951   \n",
       "1         0.04884                   1.30232  1.40223   \n",
       "2         0.03328                   1.32548  1.36058   \n",
       "3         0.03880                   1.45900  1.33095   \n",
       "4         0.03553                   1.32629  1.32261   \n",
       "\n",
       "   Health (Life Expectancy)  Freedom  Trust (Government Corruption)  \\\n",
       "0                   0.94143  0.66557                        0.41978   \n",
       "1                   0.94784  0.62877                        0.14145   \n",
       "2                   0.87464  0.64938                        0.48357   \n",
       "3                   0.88521  0.66973                        0.36503   \n",
       "4                   0.90563  0.63297                        0.32957   \n",
       "\n",
       "   Generosity  Dystopia Residual  \n",
       "0     0.29678            2.51738  \n",
       "1     0.43630            2.70201  \n",
       "2     0.34139            2.49204  \n",
       "3     0.34699            2.46531  \n",
       "4     0.45811            2.45176  "
      ]
     },
     "execution_count": 3,
     "metadata": {},
     "output_type": "execute_result"
    }
   ],
   "source": [
    "df=pd.read_csv(\"happiness.csv\")\n",
    "df.head()"
   ]
  },
  {
   "cell_type": "code",
   "execution_count": 4,
   "metadata": {},
   "outputs": [
    {
     "data": {
      "text/html": [
       "<div>\n",
       "<style scoped>\n",
       "    .dataframe tbody tr th:only-of-type {\n",
       "        vertical-align: middle;\n",
       "    }\n",
       "\n",
       "    .dataframe tbody tr th {\n",
       "        vertical-align: top;\n",
       "    }\n",
       "\n",
       "    .dataframe thead th {\n",
       "        text-align: right;\n",
       "    }\n",
       "</style>\n",
       "<table border=\"1\" class=\"dataframe\">\n",
       "  <thead>\n",
       "    <tr style=\"text-align: right;\">\n",
       "      <th></th>\n",
       "      <th>Country</th>\n",
       "      <th>Region</th>\n",
       "      <th>Happiness Rank</th>\n",
       "      <th>Happiness Score</th>\n",
       "      <th>Standard Error</th>\n",
       "      <th>Economy (GDP per Capita)</th>\n",
       "      <th>Family</th>\n",
       "      <th>Health (Life Expectancy)</th>\n",
       "      <th>Freedom</th>\n",
       "      <th>Trust (Government Corruption)</th>\n",
       "      <th>Generosity</th>\n",
       "      <th>Dystopia Residual</th>\n",
       "    </tr>\n",
       "  </thead>\n",
       "  <tbody>\n",
       "    <tr>\n",
       "      <th>153</th>\n",
       "      <td>Rwanda</td>\n",
       "      <td>Sub-Saharan Africa</td>\n",
       "      <td>154</td>\n",
       "      <td>3.465</td>\n",
       "      <td>0.03464</td>\n",
       "      <td>0.22208</td>\n",
       "      <td>0.77370</td>\n",
       "      <td>0.42864</td>\n",
       "      <td>0.59201</td>\n",
       "      <td>0.55191</td>\n",
       "      <td>0.22628</td>\n",
       "      <td>0.67042</td>\n",
       "    </tr>\n",
       "    <tr>\n",
       "      <th>154</th>\n",
       "      <td>Benin</td>\n",
       "      <td>Sub-Saharan Africa</td>\n",
       "      <td>155</td>\n",
       "      <td>3.340</td>\n",
       "      <td>0.03656</td>\n",
       "      <td>0.28665</td>\n",
       "      <td>0.35386</td>\n",
       "      <td>0.31910</td>\n",
       "      <td>0.48450</td>\n",
       "      <td>0.08010</td>\n",
       "      <td>0.18260</td>\n",
       "      <td>1.63328</td>\n",
       "    </tr>\n",
       "    <tr>\n",
       "      <th>155</th>\n",
       "      <td>Syria</td>\n",
       "      <td>Middle East and Northern Africa</td>\n",
       "      <td>156</td>\n",
       "      <td>3.006</td>\n",
       "      <td>0.05015</td>\n",
       "      <td>0.66320</td>\n",
       "      <td>0.47489</td>\n",
       "      <td>0.72193</td>\n",
       "      <td>0.15684</td>\n",
       "      <td>0.18906</td>\n",
       "      <td>0.47179</td>\n",
       "      <td>0.32858</td>\n",
       "    </tr>\n",
       "    <tr>\n",
       "      <th>156</th>\n",
       "      <td>Burundi</td>\n",
       "      <td>Sub-Saharan Africa</td>\n",
       "      <td>157</td>\n",
       "      <td>2.905</td>\n",
       "      <td>0.08658</td>\n",
       "      <td>0.01530</td>\n",
       "      <td>0.41587</td>\n",
       "      <td>0.22396</td>\n",
       "      <td>0.11850</td>\n",
       "      <td>0.10062</td>\n",
       "      <td>0.19727</td>\n",
       "      <td>1.83302</td>\n",
       "    </tr>\n",
       "    <tr>\n",
       "      <th>157</th>\n",
       "      <td>Togo</td>\n",
       "      <td>Sub-Saharan Africa</td>\n",
       "      <td>158</td>\n",
       "      <td>2.839</td>\n",
       "      <td>0.06727</td>\n",
       "      <td>0.20868</td>\n",
       "      <td>0.13995</td>\n",
       "      <td>0.28443</td>\n",
       "      <td>0.36453</td>\n",
       "      <td>0.10731</td>\n",
       "      <td>0.16681</td>\n",
       "      <td>1.56726</td>\n",
       "    </tr>\n",
       "  </tbody>\n",
       "</table>\n",
       "</div>"
      ],
      "text/plain": [
       "     Country                           Region  Happiness Rank  \\\n",
       "153   Rwanda               Sub-Saharan Africa             154   \n",
       "154    Benin               Sub-Saharan Africa             155   \n",
       "155    Syria  Middle East and Northern Africa             156   \n",
       "156  Burundi               Sub-Saharan Africa             157   \n",
       "157     Togo               Sub-Saharan Africa             158   \n",
       "\n",
       "     Happiness Score  Standard Error  Economy (GDP per Capita)   Family  \\\n",
       "153            3.465         0.03464                   0.22208  0.77370   \n",
       "154            3.340         0.03656                   0.28665  0.35386   \n",
       "155            3.006         0.05015                   0.66320  0.47489   \n",
       "156            2.905         0.08658                   0.01530  0.41587   \n",
       "157            2.839         0.06727                   0.20868  0.13995   \n",
       "\n",
       "     Health (Life Expectancy)  Freedom  Trust (Government Corruption)  \\\n",
       "153                   0.42864  0.59201                        0.55191   \n",
       "154                   0.31910  0.48450                        0.08010   \n",
       "155                   0.72193  0.15684                        0.18906   \n",
       "156                   0.22396  0.11850                        0.10062   \n",
       "157                   0.28443  0.36453                        0.10731   \n",
       "\n",
       "     Generosity  Dystopia Residual  \n",
       "153     0.22628            0.67042  \n",
       "154     0.18260            1.63328  \n",
       "155     0.47179            0.32858  \n",
       "156     0.19727            1.83302  \n",
       "157     0.16681            1.56726  "
      ]
     },
     "execution_count": 4,
     "metadata": {},
     "output_type": "execute_result"
    }
   ],
   "source": [
    "df.tail()"
   ]
  },
  {
   "cell_type": "code",
   "execution_count": 5,
   "metadata": {},
   "outputs": [
    {
     "data": {
      "text/plain": [
       "(158, 12)"
      ]
     },
     "execution_count": 5,
     "metadata": {},
     "output_type": "execute_result"
    }
   ],
   "source": [
    "df.shape"
   ]
  },
  {
   "cell_type": "code",
   "execution_count": 6,
   "metadata": {},
   "outputs": [
    {
     "name": "stdout",
     "output_type": "stream",
     "text": [
      "<class 'pandas.core.frame.DataFrame'>\n",
      "RangeIndex: 158 entries, 0 to 157\n",
      "Data columns (total 12 columns):\n",
      " #   Column                         Non-Null Count  Dtype  \n",
      "---  ------                         --------------  -----  \n",
      " 0   Country                        158 non-null    object \n",
      " 1   Region                         158 non-null    object \n",
      " 2   Happiness Rank                 158 non-null    int64  \n",
      " 3   Happiness Score                158 non-null    float64\n",
      " 4   Standard Error                 158 non-null    float64\n",
      " 5   Economy (GDP per Capita)       158 non-null    float64\n",
      " 6   Family                         158 non-null    float64\n",
      " 7   Health (Life Expectancy)       158 non-null    float64\n",
      " 8   Freedom                        158 non-null    float64\n",
      " 9   Trust (Government Corruption)  158 non-null    float64\n",
      " 10  Generosity                     158 non-null    float64\n",
      " 11  Dystopia Residual              158 non-null    float64\n",
      "dtypes: float64(9), int64(1), object(2)\n",
      "memory usage: 14.9+ KB\n"
     ]
    }
   ],
   "source": [
    "df.info()"
   ]
  },
  {
   "cell_type": "code",
   "execution_count": 7,
   "metadata": {},
   "outputs": [
    {
     "data": {
      "text/plain": [
       "Country                          0\n",
       "Region                           0\n",
       "Happiness Rank                   0\n",
       "Happiness Score                  0\n",
       "Standard Error                   0\n",
       "Economy (GDP per Capita)         0\n",
       "Family                           0\n",
       "Health (Life Expectancy)         0\n",
       "Freedom                          0\n",
       "Trust (Government Corruption)    0\n",
       "Generosity                       0\n",
       "Dystopia Residual                0\n",
       "dtype: int64"
      ]
     },
     "execution_count": 7,
     "metadata": {},
     "output_type": "execute_result"
    }
   ],
   "source": [
    "df.isnull().sum()"
   ]
  },
  {
   "cell_type": "code",
   "execution_count": 8,
   "metadata": {},
   "outputs": [
    {
     "data": {
      "text/html": [
       "<div>\n",
       "<style scoped>\n",
       "    .dataframe tbody tr th:only-of-type {\n",
       "        vertical-align: middle;\n",
       "    }\n",
       "\n",
       "    .dataframe tbody tr th {\n",
       "        vertical-align: top;\n",
       "    }\n",
       "\n",
       "    .dataframe thead th {\n",
       "        text-align: right;\n",
       "    }\n",
       "</style>\n",
       "<table border=\"1\" class=\"dataframe\">\n",
       "  <thead>\n",
       "    <tr style=\"text-align: right;\">\n",
       "      <th></th>\n",
       "      <th>Happiness Rank</th>\n",
       "      <th>Happiness Score</th>\n",
       "      <th>Standard Error</th>\n",
       "      <th>Economy (GDP per Capita)</th>\n",
       "      <th>Family</th>\n",
       "      <th>Health (Life Expectancy)</th>\n",
       "      <th>Freedom</th>\n",
       "      <th>Trust (Government Corruption)</th>\n",
       "      <th>Generosity</th>\n",
       "      <th>Dystopia Residual</th>\n",
       "    </tr>\n",
       "  </thead>\n",
       "  <tbody>\n",
       "    <tr>\n",
       "      <th>count</th>\n",
       "      <td>158.000000</td>\n",
       "      <td>158.000000</td>\n",
       "      <td>158.000000</td>\n",
       "      <td>158.000000</td>\n",
       "      <td>158.000000</td>\n",
       "      <td>158.000000</td>\n",
       "      <td>158.000000</td>\n",
       "      <td>158.000000</td>\n",
       "      <td>158.000000</td>\n",
       "      <td>158.000000</td>\n",
       "    </tr>\n",
       "    <tr>\n",
       "      <th>mean</th>\n",
       "      <td>79.493671</td>\n",
       "      <td>5.375734</td>\n",
       "      <td>0.047885</td>\n",
       "      <td>0.846137</td>\n",
       "      <td>0.991046</td>\n",
       "      <td>0.630259</td>\n",
       "      <td>0.428615</td>\n",
       "      <td>0.143422</td>\n",
       "      <td>0.237296</td>\n",
       "      <td>2.098977</td>\n",
       "    </tr>\n",
       "    <tr>\n",
       "      <th>std</th>\n",
       "      <td>45.754363</td>\n",
       "      <td>1.145010</td>\n",
       "      <td>0.017146</td>\n",
       "      <td>0.403121</td>\n",
       "      <td>0.272369</td>\n",
       "      <td>0.247078</td>\n",
       "      <td>0.150693</td>\n",
       "      <td>0.120034</td>\n",
       "      <td>0.126685</td>\n",
       "      <td>0.553550</td>\n",
       "    </tr>\n",
       "    <tr>\n",
       "      <th>min</th>\n",
       "      <td>1.000000</td>\n",
       "      <td>2.839000</td>\n",
       "      <td>0.018480</td>\n",
       "      <td>0.000000</td>\n",
       "      <td>0.000000</td>\n",
       "      <td>0.000000</td>\n",
       "      <td>0.000000</td>\n",
       "      <td>0.000000</td>\n",
       "      <td>0.000000</td>\n",
       "      <td>0.328580</td>\n",
       "    </tr>\n",
       "    <tr>\n",
       "      <th>25%</th>\n",
       "      <td>40.250000</td>\n",
       "      <td>4.526000</td>\n",
       "      <td>0.037268</td>\n",
       "      <td>0.545808</td>\n",
       "      <td>0.856823</td>\n",
       "      <td>0.439185</td>\n",
       "      <td>0.328330</td>\n",
       "      <td>0.061675</td>\n",
       "      <td>0.150553</td>\n",
       "      <td>1.759410</td>\n",
       "    </tr>\n",
       "    <tr>\n",
       "      <th>50%</th>\n",
       "      <td>79.500000</td>\n",
       "      <td>5.232500</td>\n",
       "      <td>0.043940</td>\n",
       "      <td>0.910245</td>\n",
       "      <td>1.029510</td>\n",
       "      <td>0.696705</td>\n",
       "      <td>0.435515</td>\n",
       "      <td>0.107220</td>\n",
       "      <td>0.216130</td>\n",
       "      <td>2.095415</td>\n",
       "    </tr>\n",
       "    <tr>\n",
       "      <th>75%</th>\n",
       "      <td>118.750000</td>\n",
       "      <td>6.243750</td>\n",
       "      <td>0.052300</td>\n",
       "      <td>1.158448</td>\n",
       "      <td>1.214405</td>\n",
       "      <td>0.811013</td>\n",
       "      <td>0.549092</td>\n",
       "      <td>0.180255</td>\n",
       "      <td>0.309883</td>\n",
       "      <td>2.462415</td>\n",
       "    </tr>\n",
       "    <tr>\n",
       "      <th>max</th>\n",
       "      <td>158.000000</td>\n",
       "      <td>7.587000</td>\n",
       "      <td>0.136930</td>\n",
       "      <td>1.690420</td>\n",
       "      <td>1.402230</td>\n",
       "      <td>1.025250</td>\n",
       "      <td>0.669730</td>\n",
       "      <td>0.551910</td>\n",
       "      <td>0.795880</td>\n",
       "      <td>3.602140</td>\n",
       "    </tr>\n",
       "  </tbody>\n",
       "</table>\n",
       "</div>"
      ],
      "text/plain": [
       "       Happiness Rank  Happiness Score  Standard Error  \\\n",
       "count      158.000000       158.000000      158.000000   \n",
       "mean        79.493671         5.375734        0.047885   \n",
       "std         45.754363         1.145010        0.017146   \n",
       "min          1.000000         2.839000        0.018480   \n",
       "25%         40.250000         4.526000        0.037268   \n",
       "50%         79.500000         5.232500        0.043940   \n",
       "75%        118.750000         6.243750        0.052300   \n",
       "max        158.000000         7.587000        0.136930   \n",
       "\n",
       "       Economy (GDP per Capita)      Family  Health (Life Expectancy)  \\\n",
       "count                158.000000  158.000000                158.000000   \n",
       "mean                   0.846137    0.991046                  0.630259   \n",
       "std                    0.403121    0.272369                  0.247078   \n",
       "min                    0.000000    0.000000                  0.000000   \n",
       "25%                    0.545808    0.856823                  0.439185   \n",
       "50%                    0.910245    1.029510                  0.696705   \n",
       "75%                    1.158448    1.214405                  0.811013   \n",
       "max                    1.690420    1.402230                  1.025250   \n",
       "\n",
       "          Freedom  Trust (Government Corruption)  Generosity  \\\n",
       "count  158.000000                     158.000000  158.000000   \n",
       "mean     0.428615                       0.143422    0.237296   \n",
       "std      0.150693                       0.120034    0.126685   \n",
       "min      0.000000                       0.000000    0.000000   \n",
       "25%      0.328330                       0.061675    0.150553   \n",
       "50%      0.435515                       0.107220    0.216130   \n",
       "75%      0.549092                       0.180255    0.309883   \n",
       "max      0.669730                       0.551910    0.795880   \n",
       "\n",
       "       Dystopia Residual  \n",
       "count         158.000000  \n",
       "mean            2.098977  \n",
       "std             0.553550  \n",
       "min             0.328580  \n",
       "25%             1.759410  \n",
       "50%             2.095415  \n",
       "75%             2.462415  \n",
       "max             3.602140  "
      ]
     },
     "execution_count": 8,
     "metadata": {},
     "output_type": "execute_result"
    }
   ],
   "source": [
    "df.describe()"
   ]
  },
  {
   "cell_type": "code",
   "execution_count": 9,
   "metadata": {},
   "outputs": [
    {
     "data": {
      "text/plain": [
       "array([1.34951, 1.40223, 1.36058, 1.33095, 1.32261, 1.31826, 1.28017,\n",
       "       1.28907, 1.31967, 1.30923, 1.22393, 1.23788, 1.29704, 0.91451,\n",
       "       1.24711, 1.23287, 1.21963, 1.36948, 1.28566, 1.12575, 1.28548,\n",
       "       1.08182, 1.25596, 1.02   , 1.1985 , 1.29937, 1.12447, 1.0786 ,\n",
       "       1.26038, 1.24823, 1.20643, 1.2089 , 1.24018, 1.26504, 1.08393,\n",
       "       1.31379, 1.30203, 1.07617, 1.16594, 0.972  , 1.18354, 1.02507,\n",
       "       1.04356, 1.34043, 1.26999, 1.25712, 0.95774, 0.99903, 1.21624,\n",
       "       1.19777, 0.97841, 1.01528, 1.30477, 1.12241, 1.27385, 1.25745,\n",
       "       1.14184, 0.97459, 1.23289, 1.27948, 1.07023, 0.79624, 1.11862,\n",
       "       1.23617, 1.15102, 1.07008, 0.89318, 1.07772, 0.81198, 1.22668,\n",
       "       0.98521, 1.05818, 1.22791, 1.08708, 0.91226, 0.94632, 1.15115,\n",
       "       0.90432, 1.10395, 0.93793, 0.41411, 1.05392, 0.90557, 0.94675,\n",
       "       0.91612, 0.88588, 1.00964, 1.13935, 1.09562, 1.03516, 0.95152,\n",
       "       0.64095, 1.00232, 1.02626, 0.80434, 0.91916, 1.04103, 1.17202,\n",
       "       0.73803, 1.3006 , 1.07284, 0.92933, 0.80001, 1.20215, 0.95348,\n",
       "       0.85563, 0.60429, 0.92558, 0.43106, 0.54447, 1.20278, 0.81889,\n",
       "       1.18468, 0.67954, 1.03276, 0.78968, 0.38174, 1.01404, 0.74302,\n",
       "       1.0012 , 0.86449, 0.60406, 0.95571, 0.86908, 0.99876, 0.59207,\n",
       "       0.77711, 1.10464, 0.70905, 0.38562, 0.41134, 1.01905, 0.88767,\n",
       "       1.10614, 0.747  , 0.68093, 0.8604 , 1.03526, 0.6629 , 0.79273,\n",
       "       1.13299, 0.97619, 0.90528, 0.77265, 0.62736, 1.00268, 0.66801,\n",
       "       0.     , 0.76062, 0.46475, 0.77115, 0.85188, 0.30285, 0.7737 ,\n",
       "       0.35386, 0.47489, 0.41587, 0.13995])"
      ]
     },
     "execution_count": 9,
     "metadata": {},
     "output_type": "execute_result"
    }
   ],
   "source": [
    "df.Family.unique()"
   ]
  },
  {
   "cell_type": "code",
   "execution_count": 10,
   "metadata": {},
   "outputs": [
    {
     "data": {
      "text/plain": [
       "<matplotlib.axes._subplots.AxesSubplot at 0xfc439756a0>"
      ]
     },
     "execution_count": 10,
     "metadata": {},
     "output_type": "execute_result"
    },
    {
     "data": {
      "image/png": "[encoded data removed]",
      "text/plain": [
       "<Figure size 432x288 with 2 Axes>"
      ]
     },
     "metadata": {
      "needs_background": "light"
     },
     "output_type": "display_data"
    }
   ],
   "source": [
    "sns.heatmap(df.isnull())"
   ]
  },
  {
   "cell_type": "code",
   "execution_count": 11,
   "metadata": {},
   "outputs": [
    {
     "data": {
      "text/html": [
       "<div>\n",
       "<style scoped>\n",
       "    .dataframe tbody tr th:only-of-type {\n",
       "        vertical-align: middle;\n",
       "    }\n",
       "\n",
       "    .dataframe tbody tr th {\n",
       "        vertical-align: top;\n",
       "    }\n",
       "\n",
       "    .dataframe thead th {\n",
       "        text-align: right;\n",
       "    }\n",
       "</style>\n",
       "<table border=\"1\" class=\"dataframe\">\n",
       "  <thead>\n",
       "    <tr style=\"text-align: right;\">\n",
       "      <th></th>\n",
       "      <th>Happiness Rank</th>\n",
       "      <th>Happiness Score</th>\n",
       "      <th>Standard Error</th>\n",
       "      <th>Economy (GDP per Capita)</th>\n",
       "      <th>Family</th>\n",
       "      <th>Health (Life Expectancy)</th>\n",
       "      <th>Freedom</th>\n",
       "      <th>Trust (Government Corruption)</th>\n",
       "      <th>Generosity</th>\n",
       "      <th>Dystopia Residual</th>\n",
       "    </tr>\n",
       "  </thead>\n",
       "  <tbody>\n",
       "    <tr>\n",
       "      <th>Happiness Rank</th>\n",
       "      <td>1.000000</td>\n",
       "      <td>-0.992105</td>\n",
       "      <td>0.158516</td>\n",
       "      <td>-0.785267</td>\n",
       "      <td>-0.733644</td>\n",
       "      <td>-0.735613</td>\n",
       "      <td>-0.556886</td>\n",
       "      <td>-0.372315</td>\n",
       "      <td>-0.160142</td>\n",
       "      <td>-0.521999</td>\n",
       "    </tr>\n",
       "    <tr>\n",
       "      <th>Happiness Score</th>\n",
       "      <td>-0.992105</td>\n",
       "      <td>1.000000</td>\n",
       "      <td>-0.177254</td>\n",
       "      <td>0.780966</td>\n",
       "      <td>0.740605</td>\n",
       "      <td>0.724200</td>\n",
       "      <td>0.568211</td>\n",
       "      <td>0.395199</td>\n",
       "      <td>0.180319</td>\n",
       "      <td>0.530474</td>\n",
       "    </tr>\n",
       "    <tr>\n",
       "      <th>Standard Error</th>\n",
       "      <td>0.158516</td>\n",
       "      <td>-0.177254</td>\n",
       "      <td>1.000000</td>\n",
       "      <td>-0.217651</td>\n",
       "      <td>-0.120728</td>\n",
       "      <td>-0.310287</td>\n",
       "      <td>-0.129773</td>\n",
       "      <td>-0.178325</td>\n",
       "      <td>-0.088439</td>\n",
       "      <td>0.083981</td>\n",
       "    </tr>\n",
       "    <tr>\n",
       "      <th>Economy (GDP per Capita)</th>\n",
       "      <td>-0.785267</td>\n",
       "      <td>0.780966</td>\n",
       "      <td>-0.217651</td>\n",
       "      <td>1.000000</td>\n",
       "      <td>0.645299</td>\n",
       "      <td>0.816478</td>\n",
       "      <td>0.370300</td>\n",
       "      <td>0.307885</td>\n",
       "      <td>-0.010465</td>\n",
       "      <td>0.040059</td>\n",
       "    </tr>\n",
       "    <tr>\n",
       "      <th>Family</th>\n",
       "      <td>-0.733644</td>\n",
       "      <td>0.740605</td>\n",
       "      <td>-0.120728</td>\n",
       "      <td>0.645299</td>\n",
       "      <td>1.000000</td>\n",
       "      <td>0.531104</td>\n",
       "      <td>0.441518</td>\n",
       "      <td>0.205605</td>\n",
       "      <td>0.087513</td>\n",
       "      <td>0.148117</td>\n",
       "    </tr>\n",
       "    <tr>\n",
       "      <th>Health (Life Expectancy)</th>\n",
       "      <td>-0.735613</td>\n",
       "      <td>0.724200</td>\n",
       "      <td>-0.310287</td>\n",
       "      <td>0.816478</td>\n",
       "      <td>0.531104</td>\n",
       "      <td>1.000000</td>\n",
       "      <td>0.360477</td>\n",
       "      <td>0.248335</td>\n",
       "      <td>0.108335</td>\n",
       "      <td>0.018979</td>\n",
       "    </tr>\n",
       "    <tr>\n",
       "      <th>Freedom</th>\n",
       "      <td>-0.556886</td>\n",
       "      <td>0.568211</td>\n",
       "      <td>-0.129773</td>\n",
       "      <td>0.370300</td>\n",
       "      <td>0.441518</td>\n",
       "      <td>0.360477</td>\n",
       "      <td>1.000000</td>\n",
       "      <td>0.493524</td>\n",
       "      <td>0.373916</td>\n",
       "      <td>0.062783</td>\n",
       "    </tr>\n",
       "    <tr>\n",
       "      <th>Trust (Government Corruption)</th>\n",
       "      <td>-0.372315</td>\n",
       "      <td>0.395199</td>\n",
       "      <td>-0.178325</td>\n",
       "      <td>0.307885</td>\n",
       "      <td>0.205605</td>\n",
       "      <td>0.248335</td>\n",
       "      <td>0.493524</td>\n",
       "      <td>1.000000</td>\n",
       "      <td>0.276123</td>\n",
       "      <td>-0.033105</td>\n",
       "    </tr>\n",
       "    <tr>\n",
       "      <th>Generosity</th>\n",
       "      <td>-0.160142</td>\n",
       "      <td>0.180319</td>\n",
       "      <td>-0.088439</td>\n",
       "      <td>-0.010465</td>\n",
       "      <td>0.087513</td>\n",
       "      <td>0.108335</td>\n",
       "      <td>0.373916</td>\n",
       "      <td>0.276123</td>\n",
       "      <td>1.000000</td>\n",
       "      <td>-0.101301</td>\n",
       "    </tr>\n",
       "    <tr>\n",
       "      <th>Dystopia Residual</th>\n",
       "      <td>-0.521999</td>\n",
       "      <td>0.530474</td>\n",
       "      <td>0.083981</td>\n",
       "      <td>0.040059</td>\n",
       "      <td>0.148117</td>\n",
       "      <td>0.018979</td>\n",
       "      <td>0.062783</td>\n",
       "      <td>-0.033105</td>\n",
       "      <td>-0.101301</td>\n",
       "      <td>1.000000</td>\n",
       "    </tr>\n",
       "  </tbody>\n",
       "</table>\n",
       "</div>"
      ],
      "text/plain": [
       "                               Happiness Rank  Happiness Score  \\\n",
       "Happiness Rank                       1.000000        -0.992105   \n",
       "Happiness Score                     -0.992105         1.000000   \n",
       "Standard Error                       0.158516        -0.177254   \n",
       "Economy (GDP per Capita)            -0.785267         0.780966   \n",
       "Family                              -0.733644         0.740605   \n",
       "Health (Life Expectancy)            -0.735613         0.724200   \n",
       "Freedom                             -0.556886         0.568211   \n",
       "Trust (Government Corruption)       -0.372315         0.395199   \n",
       "Generosity                          -0.160142         0.180319   \n",
       "Dystopia Residual                   -0.521999         0.530474   \n",
       "\n",
       "                               Standard Error  Economy (GDP per Capita)  \\\n",
       "Happiness Rank                       0.158516                 -0.785267   \n",
       "Happiness Score                     -0.177254                  0.780966   \n",
       "Standard Error                       1.000000                 -0.217651   \n",
       "Economy (GDP per Capita)            -0.217651                  1.000000   \n",
       "Family                              -0.120728                  0.645299   \n",
       "Health (Life Expectancy)            -0.310287                  0.816478   \n",
       "Freedom                             -0.129773                  0.370300   \n",
       "Trust (Government Corruption)       -0.178325                  0.307885   \n",
       "Generosity                          -0.088439                 -0.010465   \n",
       "Dystopia Residual                    0.083981                  0.040059   \n",
       "\n",
       "                                 Family  Health (Life Expectancy)   Freedom  \\\n",
       "Happiness Rank                -0.733644                 -0.735613 -0.556886   \n",
       "Happiness Score                0.740605                  0.724200  0.568211   \n",
       "Standard Error                -0.120728                 -0.310287 -0.129773   \n",
       "Economy (GDP per Capita)       0.645299                  0.816478  0.370300   \n",
       "Family                         1.000000                  0.531104  0.441518   \n",
       "Health (Life Expectancy)       0.531104                  1.000000  0.360477   \n",
       "Freedom                        0.441518                  0.360477  1.000000   \n",
       "Trust (Government Corruption)  0.205605                  0.248335  0.493524   \n",
       "Generosity                     0.087513                  0.108335  0.373916   \n",
       "Dystopia Residual              0.148117                  0.018979  0.062783   \n",
       "\n",
       "                               Trust (Government Corruption)  Generosity  \\\n",
       "Happiness Rank                                     -0.372315   -0.160142   \n",
       "Happiness Score                                     0.395199    0.180319   \n",
       "Standard Error                                     -0.178325   -0.088439   \n",
       "Economy (GDP per Capita)                            0.307885   -0.010465   \n",
       "Family                                              0.205605    0.087513   \n",
       "Health (Life Expectancy)                            0.248335    0.108335   \n",
       "Freedom                                             0.493524    0.373916   \n",
       "Trust (Government Corruption)                       1.000000    0.276123   \n",
       "Generosity                                          0.276123    1.000000   \n",
       "Dystopia Residual                                  -0.033105   -0.101301   \n",
       "\n",
       "                               Dystopia Residual  \n",
       "Happiness Rank                         -0.521999  \n",
       "Happiness Score                         0.530474  \n",
       "Standard Error                          0.083981  \n",
       "Economy (GDP per Capita)                0.040059  \n",
       "Family                                  0.148117  \n",
       "Health (Life Expectancy)                0.018979  \n",
       "Freedom                                 0.062783  \n",
       "Trust (Government Corruption)          -0.033105  \n",
       "Generosity                             -0.101301  \n",
       "Dystopia Residual                       1.000000  "
      ]
     },
     "execution_count": 11,
     "metadata": {},
     "output_type": "execute_result"
    }
   ],
   "source": [
    "df.corr()"
   ]
  },
  {
   "cell_type": "code",
   "execution_count": 12,
   "metadata": {},
   "outputs": [
    {
     "data": {
      "text/plain": [
       "<matplotlib.axes._subplots.AxesSubplot at 0xfc4491a400>"
      ]
     },
     "execution_count": 12,
     "metadata": {},
     "output_type": "execute_result"
    },
    {
     "data": {
      "image/png": "[encoded data removed]",
      "text/plain": [
       "<Figure size 432x288 with 2 Axes>"
      ]
     },
     "metadata": {
      "needs_background": "light"
     },
     "output_type": "display_data"
    }
   ],
   "source": [
    "sns.heatmap(df.corr())"
   ]
  },
  {
   "cell_type": "code",
   "execution_count": 13,
   "metadata": {},
   "outputs": [
    {
     "data": {
      "text/plain": [
       "<matplotlib.axes._subplots.AxesSubplot at 0xfc4491a0d0>"
      ]
     },
     "execution_count": 13,
     "metadata": {},
     "output_type": "execute_result"
    },
    {
     "data": {
      "image/png": "[encoded data removed]",
      "text/plain": [
       "<Figure size 720x288 with 2 Axes>"
      ]
     },
     "metadata": {
      "needs_background": "light"
     },
     "output_type": "display_data"
    }
   ],
   "source": [
    "plt.figure(figsize=(10,4))\n",
    "sns.heatmap(df.corr(),annot=True)"
   ]
  },
  {
   "cell_type": "code",
   "execution_count": 14,
   "metadata": {},
   "outputs": [
    {
     "data": {
      "text/plain": [
       "Index(['Country', 'Region', 'Happiness Rank', 'Happiness Score',\n",
       "       'Standard Error', 'Economy (GDP per Capita)', 'Family',\n",
       "       'Health (Life Expectancy)', 'Freedom', 'Trust (Government Corruption)',\n",
       "       'Generosity', 'Dystopia Residual'],\n",
       "      dtype='object')"
      ]
     },
     "execution_count": 14,
     "metadata": {},
     "output_type": "execute_result"
    }
   ],
   "source": [
    "df.columns"
   ]
  },
  {
   "cell_type": "code",
   "execution_count": 15,
   "metadata": {},
   "outputs": [
    {
     "data": {
      "text/plain": [
       "<matplotlib.axes._subplots.AxesSubplot at 0xfc45266f40>"
      ]
     },
     "execution_count": 15,
     "metadata": {},
     "output_type": "execute_result"
    },
    {
     "data": {
      "image/png": "[encoded data removed]",
      "text/plain": [
       "<Figure size 432x288 with 1 Axes>"
      ]
     },
     "metadata": {
      "needs_background": "light"
     },
     "output_type": "display_data"
    }
   ],
   "source": [
    "sns.boxplot(x='Country',y='Happiness Rank',data=df)"
   ]
  },
  {
   "cell_type": "code",
   "execution_count": 16,
   "metadata": {},
   "outputs": [
    {
     "data": {
      "text/plain": [
       "<matplotlib.axes._subplots.AxesSubplot at 0xfc45eea8e0>"
      ]
     },
     "execution_count": 16,
     "metadata": {},
     "output_type": "execute_result"
    },
    {
     "data": {
      "image/png": "[encoded data removed]",
      "text/plain": [
       "<Figure size 432x288 with 1 Axes>"
      ]
     },
     "metadata": {
      "needs_background": "light"
     },
     "output_type": "display_data"
    }
   ],
   "source": [
    "df['Dystopia Residual'].plot.box()"
   ]
  },
  {
   "cell_type": "code",
   "execution_count": 17,
   "metadata": {},
   "outputs": [
    {
     "data": {
      "text/plain": [
       "<matplotlib.axes._subplots.AxesSubplot at 0xfc45d8f850>"
      ]
     },
     "execution_count": 17,
     "metadata": {},
     "output_type": "execute_result"
    },
    {
     "data": {
      "image/png": "[encoded data removed]",
      "text/plain": [
       "<Figure size 432x288 with 1 Axes>"
      ]
     },
     "metadata": {
      "needs_background": "light"
     },
     "output_type": "display_data"
    }
   ],
   "source": [
    "sns.boxplot(x='Family',y='Happiness Rank',data=df)"
   ]
  },
  {
   "cell_type": "code",
   "execution_count": 18,
   "metadata": {},
   "outputs": [
    {
     "data": {
      "text/plain": [
       "<matplotlib.axes._subplots.AxesSubplot at 0xfc47c6f0d0>"
      ]
     },
     "execution_count": 18,
     "metadata": {},
     "output_type": "execute_result"
    },
    {
     "data": {
      "image/png": "[encoded data removed]",
      "text/plain": [
       "<Figure size 432x288 with 1 Axes>"
      ]
     },
     "metadata": {
      "needs_background": "light"
     },
     "output_type": "display_data"
    }
   ],
   "source": [
    "sns.boxplot(x='Family',y='Dystopia Residual',data=df)"
   ]
  },
  {
   "cell_type": "code",
   "execution_count": 19,
   "metadata": {},
   "outputs": [
    {
     "data": {
      "text/plain": [
       "<matplotlib.axes._subplots.AxesSubplot at 0xfc48971a00>"
      ]
     },
     "execution_count": 19,
     "metadata": {},
     "output_type": "execute_result"
    },
    {
     "data": {
      "image/png": "[encoded data removed]",
      "text/plain": [
       "<Figure size 432x288 with 1 Axes>"
      ]
     },
     "metadata": {
      "needs_background": "light"
     },
     "output_type": "display_data"
    }
   ],
   "source": [
    "sns.barplot(x='Family',y='Freedom',data=df,palette='Reds')"
   ]
  },
  {
   "cell_type": "code",
   "execution_count": 20,
   "metadata": {},
   "outputs": [
    {
     "data": {
      "text/plain": [
       "<matplotlib.axes._subplots.AxesSubplot at 0xfc487e8250>"
      ]
     },
     "execution_count": 20,
     "metadata": {},
     "output_type": "execute_result"
    },
    {
     "data": {
      "image/png": "[encoded data removed]",
      "text/plain": [
       "<Figure size 432x288 with 1 Axes>"
      ]
     },
     "metadata": {
      "needs_background": "light"
     },
     "output_type": "display_data"
    }
   ],
   "source": [
    "sns.distplot(df['Happiness Rank'])"
   ]
  },
  {
   "cell_type": "code",
   "execution_count": 21,
   "metadata": {},
   "outputs": [
    {
     "data": {
      "text/plain": [
       "array([[<matplotlib.axes._subplots.AxesSubplot object at 0x000000FC49E421F0>,\n",
       "        <matplotlib.axes._subplots.AxesSubplot object at 0x000000FC49E5EA00>,\n",
       "        <matplotlib.axes._subplots.AxesSubplot object at 0x000000FC49E95160>],\n",
       "       [<matplotlib.axes._subplots.AxesSubplot object at 0x000000FC49EBD8E0>,\n",
       "        <matplotlib.axes._subplots.AxesSubplot object at 0x000000FC49EE7100>,\n",
       "        <matplotlib.axes._subplots.AxesSubplot object at 0x000000FC49F1C760>],\n",
       "       [<matplotlib.axes._subplots.AxesSubplot object at 0x000000FC49F1C850>,\n",
       "        <matplotlib.axes._subplots.AxesSubplot object at 0x000000FC49F53070>,\n",
       "        <matplotlib.axes._subplots.AxesSubplot object at 0x000000FC49FA7EE0>],\n",
       "       [<matplotlib.axes._subplots.AxesSubplot object at 0x000000FC49FDB6A0>,\n",
       "        <matplotlib.axes._subplots.AxesSubplot object at 0x000000FC4A005D60>,\n",
       "        <matplotlib.axes._subplots.AxesSubplot object at 0x000000FC4A02E700>]],\n",
       "      dtype=object)"
      ]
     },
     "execution_count": 21,
     "metadata": {},
     "output_type": "execute_result"
    },
    {
     "data": {
      "image/png": "[encoded data removed]",
      "text/plain": [
       "<Figure size 1008x1008 with 12 Axes>"
      ]
     },
     "metadata": {
      "needs_background": "light"
     },
     "output_type": "display_data"
    }
   ],
   "source": [
    "df.hist(figsize=(14,14))"
   ]
  },
  {
   "cell_type": "code",
   "execution_count": 22,
   "metadata": {},
   "outputs": [
    {
     "data": {
      "image/png": "[encoded data removed]",
      "text/plain": [
       "<Figure size 432x288 with 1 Axes>"
      ]
     },
     "metadata": {
      "needs_background": "light"
     },
     "output_type": "display_data"
    }
   ],
   "source": [
    "plt.scatter(df.Freedom,df.Generosity)\n",
    "plt.xlabel('Freedom')\n",
    "plt.ylabel('Generosity')\n",
    "plt.show()"
   ]
  },
  {
   "cell_type": "code",
   "execution_count": 23,
   "metadata": {},
   "outputs": [],
   "source": [
    "for col in df.columns:\n",
    "    if df[col].dtypes=='object':\n",
    "        le=LabelEncoder()\n",
    "        df[col]=le.fit_transform(df[col])"
   ]
  },
  {
   "cell_type": "code",
   "execution_count": 24,
   "metadata": {},
   "outputs": [
    {
     "data": {
      "text/html": [
       "<div>\n",
       "<style scoped>\n",
       "    .dataframe tbody tr th:only-of-type {\n",
       "        vertical-align: middle;\n",
       "    }\n",
       "\n",
       "    .dataframe tbody tr th {\n",
       "        vertical-align: top;\n",
       "    }\n",
       "\n",
       "    .dataframe thead th {\n",
       "        text-align: right;\n",
       "    }\n",
       "</style>\n",
       "<table border=\"1\" class=\"dataframe\">\n",
       "  <thead>\n",
       "    <tr style=\"text-align: right;\">\n",
       "      <th></th>\n",
       "      <th>Country</th>\n",
       "      <th>Region</th>\n",
       "      <th>Happiness Rank</th>\n",
       "      <th>Happiness Score</th>\n",
       "      <th>Standard Error</th>\n",
       "      <th>Economy (GDP per Capita)</th>\n",
       "      <th>Family</th>\n",
       "      <th>Health (Life Expectancy)</th>\n",
       "      <th>Freedom</th>\n",
       "      <th>Trust (Government Corruption)</th>\n",
       "      <th>Generosity</th>\n",
       "      <th>Dystopia Residual</th>\n",
       "    </tr>\n",
       "  </thead>\n",
       "  <tbody>\n",
       "    <tr>\n",
       "      <th>0</th>\n",
       "      <td>135</td>\n",
       "      <td>9</td>\n",
       "      <td>1</td>\n",
       "      <td>7.587</td>\n",
       "      <td>0.03411</td>\n",
       "      <td>1.39651</td>\n",
       "      <td>1.34951</td>\n",
       "      <td>0.94143</td>\n",
       "      <td>0.66557</td>\n",
       "      <td>0.41978</td>\n",
       "      <td>0.29678</td>\n",
       "      <td>2.51738</td>\n",
       "    </tr>\n",
       "    <tr>\n",
       "      <th>1</th>\n",
       "      <td>58</td>\n",
       "      <td>9</td>\n",
       "      <td>2</td>\n",
       "      <td>7.561</td>\n",
       "      <td>0.04884</td>\n",
       "      <td>1.30232</td>\n",
       "      <td>1.40223</td>\n",
       "      <td>0.94784</td>\n",
       "      <td>0.62877</td>\n",
       "      <td>0.14145</td>\n",
       "      <td>0.43630</td>\n",
       "      <td>2.70201</td>\n",
       "    </tr>\n",
       "    <tr>\n",
       "      <th>2</th>\n",
       "      <td>37</td>\n",
       "      <td>9</td>\n",
       "      <td>3</td>\n",
       "      <td>7.527</td>\n",
       "      <td>0.03328</td>\n",
       "      <td>1.32548</td>\n",
       "      <td>1.36058</td>\n",
       "      <td>0.87464</td>\n",
       "      <td>0.64938</td>\n",
       "      <td>0.48357</td>\n",
       "      <td>0.34139</td>\n",
       "      <td>2.49204</td>\n",
       "    </tr>\n",
       "    <tr>\n",
       "      <th>3</th>\n",
       "      <td>105</td>\n",
       "      <td>9</td>\n",
       "      <td>4</td>\n",
       "      <td>7.522</td>\n",
       "      <td>0.03880</td>\n",
       "      <td>1.45900</td>\n",
       "      <td>1.33095</td>\n",
       "      <td>0.88521</td>\n",
       "      <td>0.66973</td>\n",
       "      <td>0.36503</td>\n",
       "      <td>0.34699</td>\n",
       "      <td>2.46531</td>\n",
       "    </tr>\n",
       "    <tr>\n",
       "      <th>4</th>\n",
       "      <td>24</td>\n",
       "      <td>5</td>\n",
       "      <td>5</td>\n",
       "      <td>7.427</td>\n",
       "      <td>0.03553</td>\n",
       "      <td>1.32629</td>\n",
       "      <td>1.32261</td>\n",
       "      <td>0.90563</td>\n",
       "      <td>0.63297</td>\n",
       "      <td>0.32957</td>\n",
       "      <td>0.45811</td>\n",
       "      <td>2.45176</td>\n",
       "    </tr>\n",
       "    <tr>\n",
       "      <th>...</th>\n",
       "      <td>...</td>\n",
       "      <td>...</td>\n",
       "      <td>...</td>\n",
       "      <td>...</td>\n",
       "      <td>...</td>\n",
       "      <td>...</td>\n",
       "      <td>...</td>\n",
       "      <td>...</td>\n",
       "      <td>...</td>\n",
       "      <td>...</td>\n",
       "      <td>...</td>\n",
       "      <td>...</td>\n",
       "    </tr>\n",
       "    <tr>\n",
       "      <th>150</th>\n",
       "      <td>66</td>\n",
       "      <td>8</td>\n",
       "      <td>151</td>\n",
       "      <td>3.655</td>\n",
       "      <td>0.05141</td>\n",
       "      <td>0.46534</td>\n",
       "      <td>0.77115</td>\n",
       "      <td>0.15185</td>\n",
       "      <td>0.46866</td>\n",
       "      <td>0.17922</td>\n",
       "      <td>0.20165</td>\n",
       "      <td>1.41723</td>\n",
       "    </tr>\n",
       "    <tr>\n",
       "      <th>151</th>\n",
       "      <td>20</td>\n",
       "      <td>8</td>\n",
       "      <td>152</td>\n",
       "      <td>3.587</td>\n",
       "      <td>0.04324</td>\n",
       "      <td>0.25812</td>\n",
       "      <td>0.85188</td>\n",
       "      <td>0.27125</td>\n",
       "      <td>0.39493</td>\n",
       "      <td>0.12832</td>\n",
       "      <td>0.21747</td>\n",
       "      <td>1.46494</td>\n",
       "    </tr>\n",
       "    <tr>\n",
       "      <th>152</th>\n",
       "      <td>0</td>\n",
       "      <td>7</td>\n",
       "      <td>153</td>\n",
       "      <td>3.575</td>\n",
       "      <td>0.03084</td>\n",
       "      <td>0.31982</td>\n",
       "      <td>0.30285</td>\n",
       "      <td>0.30335</td>\n",
       "      <td>0.23414</td>\n",
       "      <td>0.09719</td>\n",
       "      <td>0.36510</td>\n",
       "      <td>1.95210</td>\n",
       "    </tr>\n",
       "    <tr>\n",
       "      <th>154</th>\n",
       "      <td>13</td>\n",
       "      <td>8</td>\n",
       "      <td>155</td>\n",
       "      <td>3.340</td>\n",
       "      <td>0.03656</td>\n",
       "      <td>0.28665</td>\n",
       "      <td>0.35386</td>\n",
       "      <td>0.31910</td>\n",
       "      <td>0.48450</td>\n",
       "      <td>0.08010</td>\n",
       "      <td>0.18260</td>\n",
       "      <td>1.63328</td>\n",
       "    </tr>\n",
       "    <tr>\n",
       "      <th>156</th>\n",
       "      <td>21</td>\n",
       "      <td>8</td>\n",
       "      <td>157</td>\n",
       "      <td>2.905</td>\n",
       "      <td>0.08658</td>\n",
       "      <td>0.01530</td>\n",
       "      <td>0.41587</td>\n",
       "      <td>0.22396</td>\n",
       "      <td>0.11850</td>\n",
       "      <td>0.10062</td>\n",
       "      <td>0.19727</td>\n",
       "      <td>1.83302</td>\n",
       "    </tr>\n",
       "  </tbody>\n",
       "</table>\n",
       "<p>149 rows × 12 columns</p>\n",
       "</div>"
      ],
      "text/plain": [
       "     Country  Region  Happiness Rank  Happiness Score  Standard Error  \\\n",
       "0        135       9               1            7.587         0.03411   \n",
       "1         58       9               2            7.561         0.04884   \n",
       "2         37       9               3            7.527         0.03328   \n",
       "3        105       9               4            7.522         0.03880   \n",
       "4         24       5               5            7.427         0.03553   \n",
       "..       ...     ...             ...              ...             ...   \n",
       "150       66       8             151            3.655         0.05141   \n",
       "151       20       8             152            3.587         0.04324   \n",
       "152        0       7             153            3.575         0.03084   \n",
       "154       13       8             155            3.340         0.03656   \n",
       "156       21       8             157            2.905         0.08658   \n",
       "\n",
       "     Economy (GDP per Capita)   Family  Health (Life Expectancy)  Freedom  \\\n",
       "0                     1.39651  1.34951                   0.94143  0.66557   \n",
       "1                     1.30232  1.40223                   0.94784  0.62877   \n",
       "2                     1.32548  1.36058                   0.87464  0.64938   \n",
       "3                     1.45900  1.33095                   0.88521  0.66973   \n",
       "4                     1.32629  1.32261                   0.90563  0.63297   \n",
       "..                        ...      ...                       ...      ...   \n",
       "150                   0.46534  0.77115                   0.15185  0.46866   \n",
       "151                   0.25812  0.85188                   0.27125  0.39493   \n",
       "152                   0.31982  0.30285                   0.30335  0.23414   \n",
       "154                   0.28665  0.35386                   0.31910  0.48450   \n",
       "156                   0.01530  0.41587                   0.22396  0.11850   \n",
       "\n",
       "     Trust (Government Corruption)  Generosity  Dystopia Residual  \n",
       "0                          0.41978     0.29678            2.51738  \n",
       "1                          0.14145     0.43630            2.70201  \n",
       "2                          0.48357     0.34139            2.49204  \n",
       "3                          0.36503     0.34699            2.46531  \n",
       "4                          0.32957     0.45811            2.45176  \n",
       "..                             ...         ...                ...  \n",
       "150                        0.17922     0.20165            1.41723  \n",
       "151                        0.12832     0.21747            1.46494  \n",
       "152                        0.09719     0.36510            1.95210  \n",
       "154                        0.08010     0.18260            1.63328  \n",
       "156                        0.10062     0.19727            1.83302  \n",
       "\n",
       "[149 rows x 12 columns]"
      ]
     },
     "execution_count": 24,
     "metadata": {},
     "output_type": "execute_result"
    }
   ],
   "source": [
    "from scipy.stats import zscore\n",
    "import numpy as np\n",
    "z= np.abs(zscore(df))\n",
    "threshold=3\n",
    "new_df=df[(z<3).all(axis=1)]\n",
    "new_df"
   ]
  },
  {
   "cell_type": "code",
   "execution_count": 25,
   "metadata": {},
   "outputs": [
    {
     "name": "stdout",
     "output_type": "stream",
     "text": [
      "Original shape= (158, 12) \n",
      "New shape= (149, 12)\n"
     ]
    }
   ],
   "source": [
    "print(\"Original shape=\",df.shape, \"\\nNew shape=\",new_df.shape )"
   ]
  },
  {
   "cell_type": "code",
   "execution_count": 26,
   "metadata": {},
   "outputs": [
    {
     "data": {
      "text/plain": [
       "Country                          0.048701\n",
       "Region                          -0.096985\n",
       "Happiness Rank                   0.003268\n",
       "Happiness Score                  0.169740\n",
       "Standard Error                   1.243048\n",
       "Economy (GDP per Capita)        -0.390657\n",
       "Family                          -0.811340\n",
       "Health (Life Expectancy)        -0.747711\n",
       "Freedom                         -0.400867\n",
       "Trust (Government Corruption)    1.272530\n",
       "Generosity                       0.654710\n",
       "Dystopia Residual               -0.021144\n",
       "dtype: float64"
      ]
     },
     "execution_count": 26,
     "metadata": {},
     "output_type": "execute_result"
    }
   ],
   "source": [
    "new_df.skew()"
   ]
  },
  {
   "cell_type": "code",
   "execution_count": 27,
   "metadata": {},
   "outputs": [],
   "source": [
    "x=new_df.drop(\"Dystopia Residual\",axis=1)\n",
    "y=new_df[\"Dystopia Residual\"]"
   ]
  },
  {
   "cell_type": "code",
   "execution_count": 28,
   "metadata": {},
   "outputs": [],
   "source": [
    "from sklearn.preprocessing import StandardScaler\n",
    "sc=StandardScaler()\n",
    "scaledX=sc.fit_transform(x)"
   ]
  },
  {
   "cell_type": "code",
   "execution_count": 29,
   "metadata": {},
   "outputs": [
    {
     "name": "stdout",
     "output_type": "stream",
     "text": [
      "best accuracy 99.99998361728291 found on random_state40\n"
     ]
    }
   ],
   "source": [
    "from sklearn.model_selection import train_test_split \n",
    "from sklearn.linear_model import LinearRegression\n",
    "from sklearn.model_selection import cross_val_score\n",
    "from sklearn.metrics import r2_score\n",
    "\n",
    "best_rstate=0\n",
    "accu=0\n",
    "for i in range (30,200):\n",
    "    x_train,x_test,y_train,y_test=train_test_split(scaledX,y,test_size=.25,random_state=i)\n",
    "    mod=LinearRegression()\n",
    "    mod.fit(x_train,y_train)\n",
    "    y_pred=mod.predict(x_test)\n",
    "    tempaccu=r2_score(y_test,y_pred)\n",
    "    if tempaccu>accu: \n",
    "        accu=tempaccu\n",
    "        best_rstate=i\n",
    "            \n",
    "print (f\"best accuracy {accu*100} found on random_state{best_rstate}\")              "
   ]
  },
  {
   "cell_type": "code",
   "execution_count": 30,
   "metadata": {},
   "outputs": [],
   "source": [
    "from sklearn.model_selection import train_test_split\n",
    "x_train,x_test,y_train,y_test=train_test_split(scaledX,y,test_size=.25,random_state=104)"
   ]
  },
  {
   "cell_type": "code",
   "execution_count": 31,
   "metadata": {},
   "outputs": [
    {
     "name": "stdout",
     "output_type": "stream",
     "text": [
      "Accuracy=99.99996919371623, Cross_val_score= 99.99996390749608, & difference= 5.2862201442849255e-06\n"
     ]
    }
   ],
   "source": [
    "from sklearn.linear_model import LinearRegression\n",
    "LR=LinearRegression()\n",
    "LR.fit(x_train,y_train)\n",
    "y_pred=LR.predict(x_test)\n",
    "r2score=r2_score(y_test,y_pred)\n",
    "cvscore=cross_val_score(LinearRegression(),x_train,y_train,cv=5).mean()\n",
    "print(f\"Accuracy={r2score*100}, Cross_val_score= {cvscore*100}, & difference= {(r2score*100)-(cvscore*100)}\")"
   ]
  },
  {
   "cell_type": "code",
   "execution_count": 32,
   "metadata": {},
   "outputs": [
    {
     "name": "stdout",
     "output_type": "stream",
     "text": [
      "Accuracy=47.256095036004595, Cross_val_score= 58.77711828999293, & difference= -11.521023253988332\n"
     ]
    }
   ],
   "source": [
    "from sklearn.ensemble import RandomForestRegressor\n",
    "RF=RandomForestRegressor()\n",
    "RF.fit(x_train,y_train)\n",
    "y_pred=RF.predict(x_test)\n",
    "r2score=r2_score(y_test,y_pred)\n",
    "cvscore=cross_val_score(RandomForestRegressor(),x_train,y_train,cv=5).mean()\n",
    "print(f\"Accuracy={r2score*100}, Cross_val_score= {cvscore*100}, & difference= {(r2score*100)-(cvscore*100)}\")"
   ]
  },
  {
   "cell_type": "code",
   "execution_count": 33,
   "metadata": {},
   "outputs": [
    {
     "name": "stdout",
     "output_type": "stream",
     "text": [
      "Accuracy=43.288967502020185, Cross_val_score= 59.263178326283125, & difference= -15.97421082426294\n"
     ]
    }
   ],
   "source": [
    "from sklearn.ensemble import AdaBoostRegressor\n",
    "ADB=AdaBoostRegressor()\n",
    "ADB.fit(x_train,y_train)\n",
    "y_pred=ADB.predict(x_test)\n",
    "r2score=r2_score(y_test,y_pred)\n",
    "cvscore=cross_val_score(AdaBoostRegressor(),x_train,y_train,cv=5).mean()\n",
    "print(f\"Accuracy={r2score*100}, Cross_val_score= {cvscore*100}, & difference= {(r2score*100)-(cvscore*100)}\")"
   ]
  },
  {
   "cell_type": "code",
   "execution_count": 34,
   "metadata": {},
   "outputs": [
    {
     "name": "stdout",
     "output_type": "stream",
     "text": [
      "Accuracy=99.99996919371623, Cross_val_score= 90.66392182842314, & difference= 9.336047365293084\n"
     ]
    }
   ],
   "source": [
    "from sklearn.linear_model import SGDRegressor\n",
    "SGD=SGDRegressor()\n",
    "SGD.fit(x_train,y_train)\n",
    "y_pred=LR.predict(x_test)\n",
    "r2score=r2_score(y_test,y_pred)\n",
    "cvscore=cross_val_score(SGDRegressor(),x_train,y_train,cv=5).mean()\n",
    "print(f\"Accuracy={r2score*100}, Cross_val_score= {cvscore*100}, & difference= {(r2score*100)-(cvscore*100)}\")"
   ]
  },
  {
   "cell_type": "code",
   "execution_count": 35,
   "metadata": {},
   "outputs": [],
   "source": [
    "parameters= {\"max_iter\":[500,700,900,1100,1200,1300,1400,1500],\n",
    "            \"alpha\":[0.0001,0.001,0.01,0.1,1,10,100],\n",
    "             \"penalty\":[\"elasticnet\",\"l1\",\"l2\"]}"
   ]
  },
  {
   "cell_type": "code",
   "execution_count": 36,
   "metadata": {},
   "outputs": [
    {
     "name": "stdout",
     "output_type": "stream",
     "text": [
      "Final accuracy: 91.22739314520545\n"
     ]
    }
   ],
   "source": [
    "from sklearn.model_selection import GridSearchCV\n",
    "GCV=GridSearchCV(SGDRegressor(),parameters,cv=5,scoring='r2')\n",
    "GCV.fit(x_train,y_train)\n",
    "GCV.best_estimator_\n",
    "GCV_pred=GCV.best_estimator_.predict(x_test)\n",
    "\n",
    "print(\"Final accuracy:\", r2_score (y_test,GCV_pred)*100)"
   ]
  },
  {
   "cell_type": "code",
   "execution_count": 37,
   "metadata": {},
   "outputs": [
    {
     "data": {
      "text/plain": [
       "['World Happiness Report.pkl']"
      ]
     },
     "execution_count": 37,
     "metadata": {},
     "output_type": "execute_result"
    }
   ],
   "source": [
    "import joblib\n",
    "joblib.dump(GCV.best_estimator_,\"World Happiness Report.pkl\")"
   ]
  },
  {
   "cell_type": "code",
   "execution_count": null,
   "metadata": {},
   "outputs": [],
   "source": []
  }
 ],
 "metadata": {
  "kernelspec": {
   "display_name": "Python 3",
   "language": "python",
   "name": "python3"
  },
  "language_info": {
   "codemirror_mode": {
    "name": "ipython",
    "version": 3
   },
   "file_extension": ".py",
   "mimetype": "text/x-python",
   "name": "python",
   "nbconvert_exporter": "python",
   "pygments_lexer": "ipython3",
   "version": "3.8.3"
  }
 },
 "nbformat": 4,
 "nbformat_minor": 4
}
